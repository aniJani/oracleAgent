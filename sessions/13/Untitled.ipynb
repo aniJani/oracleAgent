{
 "cells": [
  {
   "cell_type": "code",
   "execution_count": 3,
   "id": "b83d178e",
   "metadata": {},
   "outputs": [
    {
     "name": "stdout",
     "output_type": "stream",
     "text": [
      "Using device: cuda\n",
      "Iteration 0 done\n",
      "Iteration 20 done\n",
      "Iteration 40 done\n",
      "Iteration 60 done\n",
      "Iteration 80 done\n",
      "Iteration 100 done\n",
      "Iteration 120 done\n",
      "Iteration 140 done\n",
      "Iteration 160 done\n",
      "Iteration 180 done\n",
      "Finished 200 iterations in 7.72 seconds\n",
      "Result snippet: tensor([[ 0.1138,  0.1138,  0.1138,  0.1138,  0.1138],\n",
      "        [-0.9175, -0.9175, -0.9175, -0.9175, -0.9175],\n",
      "        [-0.4750, -0.4750, -0.4750, -0.4750, -0.4750],\n",
      "        [-0.7620, -0.7620, -0.7620, -0.7620, -0.7620],\n",
      "        [ 0.1296,  0.1296,  0.1296,  0.1296,  0.1296]], device='cuda:0')\n"
     ]
    }
   ],
   "source": [
    "import torch\n",
    "import time\n",
    "\n",
    "# Check for GPU\n",
    "device = torch.device(\"cuda\" if torch.cuda.is_available() else \"cpu\")\n",
    "print(f\"Using device: {device}\")\n",
    "\n",
    "# Matrix size and loop count\n",
    "size = 3000  # large enough for heavy GPU usage\n",
    "iterations = 200  # adjust if it finishes too quickly or too slowly\n",
    "\n",
    "# Initialize random matrices\n",
    "A = torch.randn(size, size, device=device)\n",
    "B = torch.randn(size, size, device=device)\n",
    "\n",
    "start_time = time.time()\n",
    "\n",
    "for i in range(iterations):\n",
    "    # Step 1: Matrix multiplication\n",
    "    C = torch.matmul(A, B)\n",
    "    \n",
    "    # Step 2: Element-wise nonlinear operations\n",
    "    C = torch.sin(C) * torch.sqrt(torch.abs(C) + 1e-6)\n",
    "    \n",
    "    # Step 3: Add some noise and reduce\n",
    "    C = C + torch.randn(size, size, device=device) * 0.01\n",
    "    row_sum = C.sum(dim=1)\n",
    "    \n",
    "    # Step 4: Normalize\n",
    "    A = (row_sum - row_sum.mean()) / (row_sum.std() + 1e-6)\n",
    "    # Reshape A for next iteration\n",
    "    A = A.unsqueeze(1).expand(-1, size)\n",
    "\n",
    "    if i % 20 == 0:\n",
    "        print(f\"Iteration {i} done\")\n",
    "\n",
    "end_time = time.time()\n",
    "print(f\"Finished {iterations} iterations in {end_time - start_time:.2f} seconds\")\n",
    "print(\"Result snippet:\", A[:5, :5])\n"
   ]
  },
  {
   "cell_type": "code",
   "execution_count": null,
   "id": "5c41708a",
   "metadata": {},
   "outputs": [],
   "source": []
  }
 ],
 "metadata": {
  "kernelspec": {
   "display_name": "Python 3 (ipykernel)",
   "language": "python",
   "name": "python3"
  },
  "language_info": {
   "codemirror_mode": {
    "name": "ipython",
    "version": 3
   },
   "file_extension": ".py",
   "mimetype": "text/x-python",
   "name": "python",
   "nbconvert_exporter": "python",
   "pygments_lexer": "ipython3",
   "version": "3.11.13"
  }
 },
 "nbformat": 4,
 "nbformat_minor": 5
}
